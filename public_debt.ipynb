{
 "cells": [
  {
   "cell_type": "markdown",
   "id": "4934d89b",
   "metadata": {},
   "source": [
    "I start by importing important libraries.\n",
    "\n",
    "Import Pandas and Numpy for manipulation and handling of data and Seaborn to set a preferred style that will be used for any of our plots to reduce the need for customization."
   ]
  },
  {
   "cell_type": "code",
   "execution_count": 18,
   "id": "9616bbe6",
   "metadata": {},
   "outputs": [],
   "source": [
    "import pandas as pd\n",
    "import numpy as np\n",
    "import seaborn as sns\n",
    "\n",
    "sns.set_style(\"darkgrid\")"
   ]
  },
  {
   "cell_type": "markdown",
   "id": "854b8bc2",
   "metadata": {},
   "source": [
    "To start I assign the path and other functions i would wish to the read_csv() function.\n",
    "\n",
    "I started with the path, then went ahead to read_csv(), upon first inspection I realize that the column index were not formatted properly and that the names had trailing white spaces from either side which would make working with the data frame more difficult, i therefore assigned correct formatted column names to the variable col_names and assigned it to names argument,thereafter i realized that the data set did not start at the expected column headers which was about 4 rows down, i then used header argument to set where the data should start from.\n",
    "\n",
    "Upon Further inspection the first eleven rows were irregular, i used the Skiprows argument to remove the irregular rows so as not to skew the findings upon subsequent computation.\n",
    "\n",
    "Finally i realized the data was entered with commas resulting in the data being read as strings instead of numbers, i could have used a for loop to clean it but i opted to use a function instead, i used a lambda function to replace the commas and used the converters argument to apply it to the affected columns."
   ]
  },
  {
   "cell_type": "code",
   "execution_count": 19,
   "id": "aee18a2b",
   "metadata": {},
   "outputs": [
    {
     "data": {
      "application/vnd.microsoft.datawrangler.viewer.v0+json": {
       "columns": [
        {
         "name": "index",
         "rawType": "int64",
         "type": "integer"
        },
        {
         "name": "Year",
         "rawType": "int64",
         "type": "integer"
        },
        {
         "name": "Month",
         "rawType": "int64",
         "type": "integer"
        },
        {
         "name": "Domestic_Debt",
         "rawType": "object",
         "type": "string"
        },
        {
         "name": "External_Debt",
         "rawType": "object",
         "type": "string"
        },
        {
         "name": "Total",
         "rawType": "object",
         "type": "string"
        }
       ],
       "ref": "29742149-ecf2-44d7-ae33-7a4684b8b65d",
       "rows": [
        [
         "0",
         "2001",
         "1",
         "193332.95",
         "403645.68",
         "596978.63"
        ],
        [
         "1",
         "2001",
         "2",
         "199537.27",
         "402555.40",
         "602092.67"
        ],
        [
         "2",
         "2001",
         "3",
         "200622.58",
         "403373.54",
         "603996.12"
        ],
        [
         "3",
         "2001",
         "4",
         "210581.44",
         "402308.31",
         "612889.75"
        ],
        [
         "4",
         "2001",
         "5",
         "202880.88",
         "408100.64",
         "610981.52"
        ],
        [
         "5",
         "2001",
         "6",
         "211812.60",
         "393978.00",
         "605790.60"
        ],
        [
         "6",
         "2001",
         "7",
         "205012.00",
         "393491.36",
         "598503.36"
        ],
        [
         "7",
         "2001",
         "8",
         "214767.00",
         "392335.83",
         "607102.83"
        ],
        [
         "8",
         "2001",
         "9",
         "219165.00",
         "392052.74",
         "611217.74"
        ],
        [
         "9",
         "2001",
         "10",
         "225952.00",
         "389276.05",
         "615228.05"
        ],
        [
         "10",
         "2001",
         "11",
         "217524.00",
         "386971.92",
         "604495.92"
        ],
        [
         "11",
         "2001",
         "12",
         "221984.00",
         "384302.58",
         "606286.58"
        ],
        [
         "12",
         "2002",
         "1",
         "222711.00",
         "382302.84",
         "605013.84"
        ],
        [
         "13",
         "2002",
         "2",
         "227581.00",
         "381497.47",
         "609078.47"
        ],
        [
         "14",
         "2002",
         "3",
         "229167.00",
         "380169.06",
         "609336.06"
        ],
        [
         "15",
         "2002",
         "4",
         "233149.00",
         "378475.98",
         "611624.98"
        ],
        [
         "16",
         "2002",
         "5",
         "231773.00",
         "378594.34",
         "610367.34"
        ],
        [
         "17",
         "2002",
         "6",
         "235991.00",
         "377748.00",
         "613739.00"
        ],
        [
         "18",
         "2002",
         "7",
         "242102.05",
         "376712.94",
         "618814.99"
        ],
        [
         "19",
         "2002",
         "8",
         "247168.98",
         "376868.51",
         "624037.49"
        ],
        [
         "20",
         "2002",
         "9",
         "250808.60",
         "375034.19",
         "625842.79"
        ],
        [
         "21",
         "2002",
         "10",
         "251196.67",
         "373140.09",
         "624336.76"
        ],
        [
         "22",
         "2002",
         "11",
         "255192.66",
         "371334.71",
         "626527.37"
        ],
        [
         "23",
         "2002",
         "12",
         "259828.23",
         "369729.83",
         "629558.06"
        ],
        [
         "24",
         "2003",
         "1",
         "263986.33",
         "369051.09",
         "633037.42"
        ],
        [
         "25",
         "2003",
         "2",
         "264193.21",
         "367469.40",
         "631662.61"
        ],
        [
         "26",
         "2003",
         "3",
         "270716.28",
         "364904.26",
         "635620.54"
        ],
        [
         "27",
         "2003",
         "4",
         "276083.44",
         "363605.43",
         "639688.88"
        ],
        [
         "28",
         "2003",
         "5",
         "280928.98",
         "361731.20",
         "642660.18"
        ],
        [
         "29",
         "2003",
         "6",
         "289376.97",
         "407053.00",
         "696429.97"
        ],
        [
         "30",
         "2003",
         "7",
         "292277.47",
         "398532.85",
         "690810.32"
        ],
        [
         "31",
         "2003",
         "8",
         "295494.51",
         "397991.28",
         "693485.79"
        ],
        [
         "32",
         "2003",
         "9",
         "303252.05",
         "411067.00",
         "714319.05"
        ],
        [
         "33",
         "2003",
         "10",
         "301918.96",
         "409359.85",
         "711278.82"
        ],
        [
         "34",
         "2003",
         "11",
         "303548.41",
         "406592.25",
         "710140.65"
        ],
        [
         "35",
         "2003",
         "12",
         "301190.58",
         "410149.00",
         "711339.58"
        ],
        [
         "36",
         "2004",
         "1",
         "299701.26",
         "409158.26",
         "708859.52"
        ],
        [
         "37",
         "2004",
         "2",
         "300907.92",
         "407417.62",
         "708325.54"
        ],
        [
         "38",
         "2004",
         "3",
         "302023.58",
         "412036.08",
         "714059.66"
        ],
        [
         "39",
         "2004",
         "4",
         "301177.37",
         "409950.33",
         "711127.70"
        ],
        [
         "40",
         "2004",
         "5",
         "299347.29",
         "408547.54",
         "707894.83"
        ],
        [
         "41",
         "2004",
         "6",
         "306234.66",
         "443157.43",
         "749392.09"
        ],
        [
         "42",
         "2004",
         "7",
         "303462.12",
         "444611.00",
         "748073.12"
        ],
        [
         "43",
         "2004",
         "8",
         "301678.34",
         "444460.66",
         "746138.99"
        ],
        [
         "44",
         "2004",
         "9",
         "299745.58",
         "454438.56",
         "754184.14"
        ],
        [
         "45",
         "2004",
         "10",
         "301541.30",
         "454539.95",
         "756081.25"
        ],
        [
         "46",
         "2004",
         "11",
         "302543.91",
         "454664.42",
         "757208.33"
        ],
        [
         "47",
         "2004",
         "12",
         "295374.44",
         "439992.95",
         "735367.39"
        ],
        [
         "48",
         "2005",
         "1",
         "291222.66",
         "446226.13",
         "737448.80"
        ],
        [
         "49",
         "2005",
         "2",
         "292227.33",
         "445544.58",
         "737771.91"
        ]
       ],
       "shape": {
        "columns": 5,
        "rows": 285
       }
      },
      "text/html": [
       "<div>\n",
       "<style scoped>\n",
       "    .dataframe tbody tr th:only-of-type {\n",
       "        vertical-align: middle;\n",
       "    }\n",
       "\n",
       "    .dataframe tbody tr th {\n",
       "        vertical-align: top;\n",
       "    }\n",
       "\n",
       "    .dataframe thead th {\n",
       "        text-align: right;\n",
       "    }\n",
       "</style>\n",
       "<table border=\"1\" class=\"dataframe\">\n",
       "  <thead>\n",
       "    <tr style=\"text-align: right;\">\n",
       "      <th></th>\n",
       "      <th>Year</th>\n",
       "      <th>Month</th>\n",
       "      <th>Domestic_Debt</th>\n",
       "      <th>External_Debt</th>\n",
       "      <th>Total</th>\n",
       "    </tr>\n",
       "  </thead>\n",
       "  <tbody>\n",
       "    <tr>\n",
       "      <th>0</th>\n",
       "      <td>2001</td>\n",
       "      <td>1</td>\n",
       "      <td>193332.95</td>\n",
       "      <td>403645.68</td>\n",
       "      <td>596978.63</td>\n",
       "    </tr>\n",
       "    <tr>\n",
       "      <th>1</th>\n",
       "      <td>2001</td>\n",
       "      <td>2</td>\n",
       "      <td>199537.27</td>\n",
       "      <td>402555.40</td>\n",
       "      <td>602092.67</td>\n",
       "    </tr>\n",
       "    <tr>\n",
       "      <th>2</th>\n",
       "      <td>2001</td>\n",
       "      <td>3</td>\n",
       "      <td>200622.58</td>\n",
       "      <td>403373.54</td>\n",
       "      <td>603996.12</td>\n",
       "    </tr>\n",
       "    <tr>\n",
       "      <th>3</th>\n",
       "      <td>2001</td>\n",
       "      <td>4</td>\n",
       "      <td>210581.44</td>\n",
       "      <td>402308.31</td>\n",
       "      <td>612889.75</td>\n",
       "    </tr>\n",
       "    <tr>\n",
       "      <th>4</th>\n",
       "      <td>2001</td>\n",
       "      <td>5</td>\n",
       "      <td>202880.88</td>\n",
       "      <td>408100.64</td>\n",
       "      <td>610981.52</td>\n",
       "    </tr>\n",
       "    <tr>\n",
       "      <th>...</th>\n",
       "      <td>...</td>\n",
       "      <td>...</td>\n",
       "      <td>...</td>\n",
       "      <td>...</td>\n",
       "      <td>...</td>\n",
       "    </tr>\n",
       "    <tr>\n",
       "      <th>280</th>\n",
       "      <td>2024</td>\n",
       "      <td>5</td>\n",
       "      <td>5319887.458</td>\n",
       "      <td>5118306.595</td>\n",
       "      <td>10438194.05</td>\n",
       "    </tr>\n",
       "    <tr>\n",
       "      <th>281</th>\n",
       "      <td>2024</td>\n",
       "      <td>6</td>\n",
       "      <td>5410300</td>\n",
       "      <td>5150839.749</td>\n",
       "      <td>10561139.75</td>\n",
       "    </tr>\n",
       "    <tr>\n",
       "      <th>282</th>\n",
       "      <td>2024</td>\n",
       "      <td>7</td>\n",
       "      <td>5452995.533</td>\n",
       "      <td>5162853.57</td>\n",
       "      <td>10615849.1</td>\n",
       "    </tr>\n",
       "    <tr>\n",
       "      <th>283</th>\n",
       "      <td>2024</td>\n",
       "      <td>8</td>\n",
       "      <td>5558345.45</td>\n",
       "      <td>5176101.992</td>\n",
       "      <td>10734447.44</td>\n",
       "    </tr>\n",
       "    <tr>\n",
       "      <th>284</th>\n",
       "      <td>2024</td>\n",
       "      <td>9</td>\n",
       "      <td>5601710.323</td>\n",
       "      <td>5188364.909</td>\n",
       "      <td>10790075.23</td>\n",
       "    </tr>\n",
       "  </tbody>\n",
       "</table>\n",
       "<p>285 rows × 5 columns</p>\n",
       "</div>"
      ],
      "text/plain": [
       "     Year  Month Domestic_Debt External_Debt        Total\n",
       "0    2001      1     193332.95     403645.68    596978.63\n",
       "1    2001      2     199537.27     402555.40    602092.67\n",
       "2    2001      3     200622.58     403373.54    603996.12\n",
       "3    2001      4     210581.44     402308.31    612889.75\n",
       "4    2001      5     202880.88     408100.64    610981.52\n",
       "..    ...    ...           ...           ...          ...\n",
       "280  2024      5   5319887.458   5118306.595  10438194.05\n",
       "281  2024      6       5410300   5150839.749  10561139.75\n",
       "282  2024      7   5452995.533    5162853.57   10615849.1\n",
       "283  2024      8    5558345.45   5176101.992  10734447.44\n",
       "284  2024      9   5601710.323   5188364.909  10790075.23\n",
       "\n",
       "[285 rows x 5 columns]"
      ]
     },
     "execution_count": 19,
     "metadata": {},
     "output_type": "execute_result"
    }
   ],
   "source": [
    "debt_path = \"./Public Debt.csv\"\n",
    "col_names = ['Year', 'Month', 'Domestic_Debt', 'External_Debt', 'Total']\n",
    "int_func = lambda x: x.replace(\",\", \"\")\n",
    "df = pd.read_csv(debt_path,\n",
    "                 header=3,\n",
    "                 names=col_names,\n",
    "                 skiprows=10,\n",
    "                 converters={\"Domestic_Debt\": int_func,\"External_Debt\": int_func, \"Total\": int_func}\n",
    "                 )\n",
    "df"
   ]
  },
  {
   "cell_type": "markdown",
   "id": "2a31cc84",
   "metadata": {},
   "source": [
    "We are also going to use another data frame with some gdp data for further analysis further ahead.We read the data frame and do some cleaning, this is due to the fact that some headers contain trailing white spaces which will be a problem if we let them remain.We also drop Month since It has no value. and since we will be performing timeseries analysis we turn the year porton to a date-time and set it as the Index."
   ]
  },
  {
   "cell_type": "code",
   "execution_count": 20,
   "id": "ee89b795",
   "metadata": {},
   "outputs": [],
   "source": [
    "gdp_path = \"./Annual GDP.csv\"\n",
    "col_names = [\"Year\", \"Month\", \"Nominal_Gdp\", \"Real_Gdp_Growth\", \"Real_Gdp\"]\n",
    "gdp_df = pd.read_csv(gdp_path, names=col_names, header=1)\n",
    "gdp_df.drop(\"Month\", axis=1, inplace=True)\n",
    "gdp_df[\"Year\"] = pd.to_datetime(gdp_df[\"Year\"], format='%Y')\n",
    "gdp_df.set_index(\"Year\", inplace=True)"
   ]
  },
  {
   "cell_type": "markdown",
   "id": "5cb44d62",
   "metadata": {},
   "source": [
    "The debt data frame had no date time and only provided the month and year, for better handling of the data i decided it was best to work with a date time when working with the time series. I first joined each month and their respective year together and turned the string date to a date time format, this then cpmpleted the format by assigning the day portion as the first day of each month and set the now complete date as the index.\n",
    "\n",
    "The values in the data frame still read as an object thefore for computational purposes i converted them to float64.\n",
    "\n",
    "Now that we had a complete Date column, there was no need to keep the \"year\" and \"month\" columns i therefore decided to drop them, for their respective use i would use the datetime."
   ]
  },
  {
   "cell_type": "code",
   "execution_count": 21,
   "id": "33a027e5",
   "metadata": {},
   "outputs": [
    {
     "data": {
      "application/vnd.microsoft.datawrangler.viewer.v0+json": {
       "columns": [
        {
         "name": "Date",
         "rawType": "datetime64[ns]",
         "type": "datetime"
        },
        {
         "name": "Domestic_Debt",
         "rawType": "float64",
         "type": "float"
        },
        {
         "name": "External_Debt",
         "rawType": "float64",
         "type": "float"
        },
        {
         "name": "Total",
         "rawType": "float64",
         "type": "float"
        }
       ],
       "ref": "1deb6228-dd9e-415b-92d7-bed75cc8495c",
       "rows": [
        [
         "2001-01-01 00:00:00",
         "193332.95",
         "403645.68",
         "596978.63"
        ],
        [
         "2001-02-01 00:00:00",
         "199537.27",
         "402555.4",
         "602092.67"
        ],
        [
         "2001-03-01 00:00:00",
         "200622.58",
         "403373.54",
         "603996.12"
        ],
        [
         "2001-04-01 00:00:00",
         "210581.44",
         "402308.31",
         "612889.75"
        ],
        [
         "2001-05-01 00:00:00",
         "202880.88",
         "408100.64",
         "610981.52"
        ],
        [
         "2001-06-01 00:00:00",
         "211812.6",
         "393978.0",
         "605790.6"
        ],
        [
         "2001-07-01 00:00:00",
         "205012.0",
         "393491.36",
         "598503.36"
        ],
        [
         "2001-08-01 00:00:00",
         "214767.0",
         "392335.83",
         "607102.83"
        ],
        [
         "2001-09-01 00:00:00",
         "219165.0",
         "392052.74",
         "611217.74"
        ],
        [
         "2001-10-01 00:00:00",
         "225952.0",
         "389276.05",
         "615228.05"
        ],
        [
         "2001-11-01 00:00:00",
         "217524.0",
         "386971.92",
         "604495.92"
        ],
        [
         "2001-12-01 00:00:00",
         "221984.0",
         "384302.58",
         "606286.58"
        ],
        [
         "2002-01-01 00:00:00",
         "222711.0",
         "382302.84",
         "605013.84"
        ],
        [
         "2002-02-01 00:00:00",
         "227581.0",
         "381497.47",
         "609078.47"
        ],
        [
         "2002-03-01 00:00:00",
         "229167.0",
         "380169.06",
         "609336.06"
        ],
        [
         "2002-04-01 00:00:00",
         "233149.0",
         "378475.98",
         "611624.98"
        ],
        [
         "2002-05-01 00:00:00",
         "231773.0",
         "378594.34",
         "610367.34"
        ],
        [
         "2002-06-01 00:00:00",
         "235991.0",
         "377748.0",
         "613739.0"
        ],
        [
         "2002-07-01 00:00:00",
         "242102.05",
         "376712.94",
         "618814.99"
        ],
        [
         "2002-08-01 00:00:00",
         "247168.98",
         "376868.51",
         "624037.49"
        ],
        [
         "2002-09-01 00:00:00",
         "250808.6",
         "375034.19",
         "625842.79"
        ],
        [
         "2002-10-01 00:00:00",
         "251196.67",
         "373140.09",
         "624336.76"
        ],
        [
         "2002-11-01 00:00:00",
         "255192.66",
         "371334.71",
         "626527.37"
        ],
        [
         "2002-12-01 00:00:00",
         "259828.23",
         "369729.83",
         "629558.06"
        ],
        [
         "2003-01-01 00:00:00",
         "263986.33",
         "369051.09",
         "633037.42"
        ],
        [
         "2003-02-01 00:00:00",
         "264193.21",
         "367469.4",
         "631662.61"
        ],
        [
         "2003-03-01 00:00:00",
         "270716.28",
         "364904.26",
         "635620.54"
        ],
        [
         "2003-04-01 00:00:00",
         "276083.44",
         "363605.43",
         "639688.88"
        ],
        [
         "2003-05-01 00:00:00",
         "280928.98",
         "361731.2",
         "642660.18"
        ],
        [
         "2003-06-01 00:00:00",
         "289376.97",
         "407053.0",
         "696429.97"
        ],
        [
         "2003-07-01 00:00:00",
         "292277.47",
         "398532.85",
         "690810.32"
        ],
        [
         "2003-08-01 00:00:00",
         "295494.51",
         "397991.28",
         "693485.79"
        ],
        [
         "2003-09-01 00:00:00",
         "303252.05",
         "411067.0",
         "714319.05"
        ],
        [
         "2003-10-01 00:00:00",
         "301918.96",
         "409359.85",
         "711278.82"
        ],
        [
         "2003-11-01 00:00:00",
         "303548.41",
         "406592.25",
         "710140.65"
        ],
        [
         "2003-12-01 00:00:00",
         "301190.58",
         "410149.0",
         "711339.58"
        ],
        [
         "2004-01-01 00:00:00",
         "299701.26",
         "409158.26",
         "708859.52"
        ],
        [
         "2004-02-01 00:00:00",
         "300907.92",
         "407417.62",
         "708325.54"
        ],
        [
         "2004-03-01 00:00:00",
         "302023.58",
         "412036.08",
         "714059.66"
        ],
        [
         "2004-04-01 00:00:00",
         "301177.37",
         "409950.33",
         "711127.7"
        ],
        [
         "2004-05-01 00:00:00",
         "299347.29",
         "408547.54",
         "707894.83"
        ],
        [
         "2004-06-01 00:00:00",
         "306234.66",
         "443157.43",
         "749392.09"
        ],
        [
         "2004-07-01 00:00:00",
         "303462.12",
         "444611.0",
         "748073.12"
        ],
        [
         "2004-08-01 00:00:00",
         "301678.34",
         "444460.66",
         "746138.99"
        ],
        [
         "2004-09-01 00:00:00",
         "299745.58",
         "454438.56",
         "754184.14"
        ],
        [
         "2004-10-01 00:00:00",
         "301541.3",
         "454539.95",
         "756081.25"
        ],
        [
         "2004-11-01 00:00:00",
         "302543.91",
         "454664.42",
         "757208.33"
        ],
        [
         "2004-12-01 00:00:00",
         "295374.44",
         "439992.95",
         "735367.39"
        ],
        [
         "2005-01-01 00:00:00",
         "291222.66",
         "446226.13",
         "737448.8"
        ],
        [
         "2005-02-01 00:00:00",
         "292227.33",
         "445544.58",
         "737771.91"
        ]
       ],
       "shape": {
        "columns": 3,
        "rows": 285
       }
      },
      "text/html": [
       "<div>\n",
       "<style scoped>\n",
       "    .dataframe tbody tr th:only-of-type {\n",
       "        vertical-align: middle;\n",
       "    }\n",
       "\n",
       "    .dataframe tbody tr th {\n",
       "        vertical-align: top;\n",
       "    }\n",
       "\n",
       "    .dataframe thead th {\n",
       "        text-align: right;\n",
       "    }\n",
       "</style>\n",
       "<table border=\"1\" class=\"dataframe\">\n",
       "  <thead>\n",
       "    <tr style=\"text-align: right;\">\n",
       "      <th></th>\n",
       "      <th>Domestic_Debt</th>\n",
       "      <th>External_Debt</th>\n",
       "      <th>Total</th>\n",
       "    </tr>\n",
       "    <tr>\n",
       "      <th>Date</th>\n",
       "      <th></th>\n",
       "      <th></th>\n",
       "      <th></th>\n",
       "    </tr>\n",
       "  </thead>\n",
       "  <tbody>\n",
       "    <tr>\n",
       "      <th>2001-01-01</th>\n",
       "      <td>193332.950</td>\n",
       "      <td>403645.680</td>\n",
       "      <td>596978.63</td>\n",
       "    </tr>\n",
       "    <tr>\n",
       "      <th>2001-02-01</th>\n",
       "      <td>199537.270</td>\n",
       "      <td>402555.400</td>\n",
       "      <td>602092.67</td>\n",
       "    </tr>\n",
       "    <tr>\n",
       "      <th>2001-03-01</th>\n",
       "      <td>200622.580</td>\n",
       "      <td>403373.540</td>\n",
       "      <td>603996.12</td>\n",
       "    </tr>\n",
       "    <tr>\n",
       "      <th>2001-04-01</th>\n",
       "      <td>210581.440</td>\n",
       "      <td>402308.310</td>\n",
       "      <td>612889.75</td>\n",
       "    </tr>\n",
       "    <tr>\n",
       "      <th>2001-05-01</th>\n",
       "      <td>202880.880</td>\n",
       "      <td>408100.640</td>\n",
       "      <td>610981.52</td>\n",
       "    </tr>\n",
       "    <tr>\n",
       "      <th>...</th>\n",
       "      <td>...</td>\n",
       "      <td>...</td>\n",
       "      <td>...</td>\n",
       "    </tr>\n",
       "    <tr>\n",
       "      <th>2024-05-01</th>\n",
       "      <td>5319887.458</td>\n",
       "      <td>5118306.595</td>\n",
       "      <td>10438194.05</td>\n",
       "    </tr>\n",
       "    <tr>\n",
       "      <th>2024-06-01</th>\n",
       "      <td>5410300.000</td>\n",
       "      <td>5150839.749</td>\n",
       "      <td>10561139.75</td>\n",
       "    </tr>\n",
       "    <tr>\n",
       "      <th>2024-07-01</th>\n",
       "      <td>5452995.533</td>\n",
       "      <td>5162853.570</td>\n",
       "      <td>10615849.10</td>\n",
       "    </tr>\n",
       "    <tr>\n",
       "      <th>2024-08-01</th>\n",
       "      <td>5558345.450</td>\n",
       "      <td>5176101.992</td>\n",
       "      <td>10734447.44</td>\n",
       "    </tr>\n",
       "    <tr>\n",
       "      <th>2024-09-01</th>\n",
       "      <td>5601710.323</td>\n",
       "      <td>5188364.909</td>\n",
       "      <td>10790075.23</td>\n",
       "    </tr>\n",
       "  </tbody>\n",
       "</table>\n",
       "<p>285 rows × 3 columns</p>\n",
       "</div>"
      ],
      "text/plain": [
       "            Domestic_Debt  External_Debt        Total\n",
       "Date                                                 \n",
       "2001-01-01     193332.950     403645.680    596978.63\n",
       "2001-02-01     199537.270     402555.400    602092.67\n",
       "2001-03-01     200622.580     403373.540    603996.12\n",
       "2001-04-01     210581.440     402308.310    612889.75\n",
       "2001-05-01     202880.880     408100.640    610981.52\n",
       "...                   ...            ...          ...\n",
       "2024-05-01    5319887.458    5118306.595  10438194.05\n",
       "2024-06-01    5410300.000    5150839.749  10561139.75\n",
       "2024-07-01    5452995.533    5162853.570  10615849.10\n",
       "2024-08-01    5558345.450    5176101.992  10734447.44\n",
       "2024-09-01    5601710.323    5188364.909  10790075.23\n",
       "\n",
       "[285 rows x 3 columns]"
      ]
     },
     "execution_count": 21,
     "metadata": {},
     "output_type": "execute_result"
    }
   ],
   "source": [
    "string_date = df['Year'].astype(str)+\"-\"+df['Month'].astype(str)\n",
    "df[\"Date\"] = pd.to_datetime(string_date, format=\"%Y-%m\")\n",
    "df.set_index(\"Date\", inplace=True)\n",
    "df = df.astype({\"Domestic_Debt\": \"float64\", \"External_Debt\": \"float64\", \"Total\": \"float64\"})\n",
    "df.drop(columns=[\"Year\", \"Month\"], inplace=True)\n",
    "df"
   ]
  },
  {
   "cell_type": "markdown",
   "id": "246223ed",
   "metadata": {},
   "source": [
    "Inspection of the tail of the data frame revealed that the end was also incomplete and would therefore affect the result of subsequent calculations. I therefore decided to use only the part of the data frame with complete data.\n",
    "\n",
    "We still have over two decades worth of data and therefore we will still retain valuable information without having to affect the quality of the analysis."
   ]
  },
  {
   "cell_type": "code",
   "execution_count": 22,
   "id": "b7175d2d",
   "metadata": {},
   "outputs": [],
   "source": [
    "df.tail()\n",
    "df = df.iloc[:-9, :]"
   ]
  },
  {
   "cell_type": "markdown",
   "id": "c133790e",
   "metadata": {},
   "source": [
    "To check if the was any null value i used the info() method on the data frame.There were no missing values and i also confirmed that the data types were correct."
   ]
  },
  {
   "cell_type": "code",
   "execution_count": 23,
   "id": "7a3b0492",
   "metadata": {},
   "outputs": [
    {
     "name": "stdout",
     "output_type": "stream",
     "text": [
      "<class 'pandas.core.frame.DataFrame'>\n",
      "DatetimeIndex: 276 entries, 2001-01-01 to 2023-12-01\n",
      "Data columns (total 3 columns):\n",
      " #   Column         Non-Null Count  Dtype  \n",
      "---  ------         --------------  -----  \n",
      " 0   Domestic_Debt  276 non-null    float64\n",
      " 1   External_Debt  276 non-null    float64\n",
      " 2   Total          276 non-null    float64\n",
      "dtypes: float64(3)\n",
      "memory usage: 8.6 KB\n"
     ]
    }
   ],
   "source": [
    "df.info()"
   ]
  },
  {
   "cell_type": "markdown",
   "id": "f2ebdaef",
   "metadata": {},
   "source": [
    "I used describe to check the overall Statistics of the data."
   ]
  },
  {
   "cell_type": "code",
   "execution_count": 24,
   "id": "137e814c",
   "metadata": {},
   "outputs": [
    {
     "data": {
      "application/vnd.microsoft.datawrangler.viewer.v0+json": {
       "columns": [
        {
         "name": "index",
         "rawType": "object",
         "type": "string"
        },
        {
         "name": "Domestic_Debt",
         "rawType": "float64",
         "type": "float"
        },
        {
         "name": "External_Debt",
         "rawType": "float64",
         "type": "float"
        },
        {
         "name": "Total",
         "rawType": "float64",
         "type": "float"
        }
       ],
       "ref": "99e0f3c4-36b9-4e6a-9447-4aed6a0e9c72",
       "rows": [
        [
         "count",
         "276.0",
         "276.0",
         "276.0"
        ],
        [
         "mean",
         "1494636.8220833335",
         "1559089.183931159",
         "3053726.0065253624"
        ],
        [
         "std",
         "1384210.1182147753",
         "1482541.0038926303",
         "2862411.801646807"
        ],
        [
         "min",
         "193332.95",
         "361731.2",
         "596978.63"
        ],
        [
         "25%",
         "374540.8825",
         "424914.0725",
         "795463.54"
        ],
        [
         "50%",
         "892546.765",
         "785797.015",
         "1631175.5350000001"
        ],
        [
         "75%",
         "2382546.5575",
         "2562402.4099999997",
         "4920319.1125"
        ],
        [
         "max",
         "5050108.539",
         "6089584.983",
         "11139693.52"
        ]
       ],
       "shape": {
        "columns": 3,
        "rows": 8
       }
      },
      "text/html": [
       "<div>\n",
       "<style scoped>\n",
       "    .dataframe tbody tr th:only-of-type {\n",
       "        vertical-align: middle;\n",
       "    }\n",
       "\n",
       "    .dataframe tbody tr th {\n",
       "        vertical-align: top;\n",
       "    }\n",
       "\n",
       "    .dataframe thead th {\n",
       "        text-align: right;\n",
       "    }\n",
       "</style>\n",
       "<table border=\"1\" class=\"dataframe\">\n",
       "  <thead>\n",
       "    <tr style=\"text-align: right;\">\n",
       "      <th></th>\n",
       "      <th>Domestic_Debt</th>\n",
       "      <th>External_Debt</th>\n",
       "      <th>Total</th>\n",
       "    </tr>\n",
       "  </thead>\n",
       "  <tbody>\n",
       "    <tr>\n",
       "      <th>count</th>\n",
       "      <td>2.760000e+02</td>\n",
       "      <td>2.760000e+02</td>\n",
       "      <td>2.760000e+02</td>\n",
       "    </tr>\n",
       "    <tr>\n",
       "      <th>mean</th>\n",
       "      <td>1.494637e+06</td>\n",
       "      <td>1.559089e+06</td>\n",
       "      <td>3.053726e+06</td>\n",
       "    </tr>\n",
       "    <tr>\n",
       "      <th>std</th>\n",
       "      <td>1.384210e+06</td>\n",
       "      <td>1.482541e+06</td>\n",
       "      <td>2.862412e+06</td>\n",
       "    </tr>\n",
       "    <tr>\n",
       "      <th>min</th>\n",
       "      <td>1.933330e+05</td>\n",
       "      <td>3.617312e+05</td>\n",
       "      <td>5.969786e+05</td>\n",
       "    </tr>\n",
       "    <tr>\n",
       "      <th>25%</th>\n",
       "      <td>3.745409e+05</td>\n",
       "      <td>4.249141e+05</td>\n",
       "      <td>7.954635e+05</td>\n",
       "    </tr>\n",
       "    <tr>\n",
       "      <th>50%</th>\n",
       "      <td>8.925468e+05</td>\n",
       "      <td>7.857970e+05</td>\n",
       "      <td>1.631176e+06</td>\n",
       "    </tr>\n",
       "    <tr>\n",
       "      <th>75%</th>\n",
       "      <td>2.382547e+06</td>\n",
       "      <td>2.562402e+06</td>\n",
       "      <td>4.920319e+06</td>\n",
       "    </tr>\n",
       "    <tr>\n",
       "      <th>max</th>\n",
       "      <td>5.050109e+06</td>\n",
       "      <td>6.089585e+06</td>\n",
       "      <td>1.113969e+07</td>\n",
       "    </tr>\n",
       "  </tbody>\n",
       "</table>\n",
       "</div>"
      ],
      "text/plain": [
       "       Domestic_Debt  External_Debt         Total\n",
       "count   2.760000e+02   2.760000e+02  2.760000e+02\n",
       "mean    1.494637e+06   1.559089e+06  3.053726e+06\n",
       "std     1.384210e+06   1.482541e+06  2.862412e+06\n",
       "min     1.933330e+05   3.617312e+05  5.969786e+05\n",
       "25%     3.745409e+05   4.249141e+05  7.954635e+05\n",
       "50%     8.925468e+05   7.857970e+05  1.631176e+06\n",
       "75%     2.382547e+06   2.562402e+06  4.920319e+06\n",
       "max     5.050109e+06   6.089585e+06  1.113969e+07"
      ]
     },
     "execution_count": 24,
     "metadata": {},
     "output_type": "execute_result"
    }
   ],
   "source": [
    "df.describe()"
   ]
  },
  {
   "cell_type": "markdown",
   "id": "6ccad521",
   "metadata": {},
   "source": [
    "I first used plot to draw a lineplot of the dataframe and get a sense of the overal trend of the data.\n",
    "\n",
    "It seemed that there was generally an upward trend of the amount of debt both domestic and external debt"
   ]
  },
  {
   "cell_type": "code",
   "execution_count": 25,
   "id": "9dadf802",
   "metadata": {},
   "outputs": [
    {
     "data": {
      "text/plain": [
       "<Axes: title={'center': 'Domestic & External Debt'}, xlabel='Date', ylabel='Amount in Millions'>"
      ]
     },
     "execution_count": 25,
     "metadata": {},
     "output_type": "execute_result"
    },
    {
     "data": {
      "image/png": "[encoded data removed]",
      "text/plain": [
       "<Figure size 640x480 with 1 Axes>"
      ]
     },
     "metadata": {},
     "output_type": "display_data"
    }
   ],
   "source": [
    "df.plot(title=\"Domestic & External Debt\",\n",
    "        ylabel=\"Amount in Millions\",\n",
    "        y=[\"Domestic_Debt\", \"External_Debt\"])"
   ]
  },
  {
   "cell_type": "markdown",
   "id": "d0a30d06",
   "metadata": {},
   "source": [
    "The plot shows a rising trend in both domestic and external debt...it seems to be climbing faster arround 2008 onwards. What comes to mind wasthe world financial crisis of 2008.It can also be noted that around this period kenya had post election violence which on the after math may have necessitated more borrowing."
   ]
  },
  {
   "cell_type": "code",
   "execution_count": 26,
   "id": "845df5c6",
   "metadata": {},
   "outputs": [
    {
     "name": "stderr",
     "output_type": "stream",
     "text": [
      "C:\\Users\\daniel\\AppData\\Local\\Temp\\ipykernel_9108\\1630519332.py:1: FutureWarning: 'Y' is deprecated and will be removed in a future version, please use 'YE' instead.\n",
      "  changes_per_year = df.resample(\"Y\").mean().pct_change()*100\n"
     ]
    },
    {
     "data": {
      "application/vnd.microsoft.datawrangler.viewer.v0+json": {
       "columns": [
        {
         "name": "Date",
         "rawType": "datetime64[ns]",
         "type": "datetime"
        },
        {
         "name": "Domestic_Debt",
         "rawType": "float64",
         "type": "float"
        },
        {
         "name": "External_Debt",
         "rawType": "float64",
         "type": "float"
        },
        {
         "name": "Total",
         "rawType": "float64",
         "type": "float"
        },
        {
         "name": "High_ext__debt",
         "rawType": "bool",
         "type": "boolean"
        }
       ],
       "ref": "8f02d21e-7c48-4949-80bd-8377c24f2252",
       "rows": [
        [
         "2001-12-31 00:00:00",
         null,
         null,
         null,
         "False"
        ],
        [
         "2002-12-31 00:00:00",
         "14.406370645276567",
         "-4.856166906516057",
         "1.8240975434402618",
         "False"
        ],
        [
         "2003-12-31 00:00:00",
         "19.27127645686342",
         "3.226698362411784",
         "9.478541984623234",
         "False"
        ],
        [
         "2004-12-31 00:00:00",
         "4.9599827874049485",
         "11.043759186020718",
         "8.461142543286249",
         "True"
        ],
        [
         "2005-12-31 00:00:00",
         "4.792493839418799",
         "-0.9747490958281313",
         "1.3944663891575448",
         "False"
        ],
        [
         "2006-12-31 00:00:00",
         "14.083243502996101",
         "-2.435669659608053",
         "4.577811361179229",
         "False"
        ],
        [
         "2007-12-31 00:00:00",
         "12.766514073649482",
         "-0.9720110349787148",
         "5.391174284617839",
         "False"
        ],
        [
         "2008-12-31 00:00:00",
         "8.707131047454443",
         "6.31088253441463",
         "7.498405879911529",
         "False"
        ],
        [
         "2009-12-31 00:00:00",
         "18.205793576444606",
         "20.019673489464097",
         "19.110650387707008",
         "True"
        ],
        [
         "2010-12-31 00:00:00",
         "27.629870529531942",
         "6.755619487598108",
         "17.137247371499598",
         "False"
        ],
        [
         "2011-12-31 00:00:00",
         "15.125668136233461",
         "25.506925600458864",
         "19.881416489160664",
         "True"
        ],
        [
         "2012-12-31 00:00:00",
         "17.126195879186177",
         "6.311847478076382",
         "11.939568043149862",
         "False"
        ],
        [
         "2013-12-31 00:00:00",
         "20.594299087551594",
         "14.245296921077744",
         "17.702365978027125",
         "False"
        ],
        [
         "2014-12-31 00:00:00",
         "16.21420074782791",
         "21.038786187692505",
         "18.347225562922254",
         "True"
        ],
        [
         "2015-12-31 00:00:00",
         "12.916408045289863",
         "37.146156263462025",
         "23.872389583424457",
         "True"
        ],
        [
         "2016-12-31 00:00:00",
         "24.521667613131303",
         "23.770674830985605",
         "24.145702679873636",
         "False"
        ],
        [
         "2017-12-31 00:00:00",
         "17.51123921268927",
         "26.58515607687464",
         "22.04013539595069",
         "True"
        ],
        [
         "2018-12-31 00:00:00",
         "18.224373818827956",
         "15.99455637822853",
         "17.06999864340144",
         "False"
        ],
        [
         "2019-12-31 00:00:00",
         "14.003310263306368",
         "14.653312680791707",
         "14.336724918222021",
         "True"
        ],
        [
         "2020-12-31 00:00:00",
         "16.36698842893669",
         "17.963989753615262",
         "17.188428277166224",
         "True"
        ],
        [
         "2021-12-31 00:00:00",
         "15.634446958060622",
         "13.030153417528512",
         "14.286026974747479",
         "False"
        ],
        [
         "2022-12-31 00:00:00",
         "13.98821914704078",
         "9.108811296084474",
         "11.48957988543362",
         "False"
        ],
        [
         "2023-12-31 00:00:00",
         "10.852466132918547",
         "24.4436349400462",
         "17.663590162529943",
         "True"
        ]
       ],
       "shape": {
        "columns": 4,
        "rows": 23
       }
      },
      "text/html": [
       "<div>\n",
       "<style scoped>\n",
       "    .dataframe tbody tr th:only-of-type {\n",
       "        vertical-align: middle;\n",
       "    }\n",
       "\n",
       "    .dataframe tbody tr th {\n",
       "        vertical-align: top;\n",
       "    }\n",
       "\n",
       "    .dataframe thead th {\n",
       "        text-align: right;\n",
       "    }\n",
       "</style>\n",
       "<table border=\"1\" class=\"dataframe\">\n",
       "  <thead>\n",
       "    <tr style=\"text-align: right;\">\n",
       "      <th></th>\n",
       "      <th>Domestic_Debt</th>\n",
       "      <th>External_Debt</th>\n",
       "      <th>Total</th>\n",
       "      <th>High_ext__debt</th>\n",
       "    </tr>\n",
       "    <tr>\n",
       "      <th>Date</th>\n",
       "      <th></th>\n",
       "      <th></th>\n",
       "      <th></th>\n",
       "      <th></th>\n",
       "    </tr>\n",
       "  </thead>\n",
       "  <tbody>\n",
       "    <tr>\n",
       "      <th>2001-12-31</th>\n",
       "      <td>NaN</td>\n",
       "      <td>NaN</td>\n",
       "      <td>NaN</td>\n",
       "      <td>False</td>\n",
       "    </tr>\n",
       "    <tr>\n",
       "      <th>2002-12-31</th>\n",
       "      <td>14.406371</td>\n",
       "      <td>-4.856167</td>\n",
       "      <td>1.824098</td>\n",
       "      <td>False</td>\n",
       "    </tr>\n",
       "    <tr>\n",
       "      <th>2003-12-31</th>\n",
       "      <td>19.271276</td>\n",
       "      <td>3.226698</td>\n",
       "      <td>9.478542</td>\n",
       "      <td>False</td>\n",
       "    </tr>\n",
       "    <tr>\n",
       "      <th>2004-12-31</th>\n",
       "      <td>4.959983</td>\n",
       "      <td>11.043759</td>\n",
       "      <td>8.461143</td>\n",
       "      <td>True</td>\n",
       "    </tr>\n",
       "    <tr>\n",
       "      <th>2005-12-31</th>\n",
       "      <td>4.792494</td>\n",
       "      <td>-0.974749</td>\n",
       "      <td>1.394466</td>\n",
       "      <td>False</td>\n",
       "    </tr>\n",
       "    <tr>\n",
       "      <th>2006-12-31</th>\n",
       "      <td>14.083244</td>\n",
       "      <td>-2.435670</td>\n",
       "      <td>4.577811</td>\n",
       "      <td>False</td>\n",
       "    </tr>\n",
       "    <tr>\n",
       "      <th>2007-12-31</th>\n",
       "      <td>12.766514</td>\n",
       "      <td>-0.972011</td>\n",
       "      <td>5.391174</td>\n",
       "      <td>False</td>\n",
       "    </tr>\n",
       "    <tr>\n",
       "      <th>2008-12-31</th>\n",
       "      <td>8.707131</td>\n",
       "      <td>6.310883</td>\n",
       "      <td>7.498406</td>\n",
       "      <td>False</td>\n",
       "    </tr>\n",
       "    <tr>\n",
       "      <th>2009-12-31</th>\n",
       "      <td>18.205794</td>\n",
       "      <td>20.019673</td>\n",
       "      <td>19.110650</td>\n",
       "      <td>True</td>\n",
       "    </tr>\n",
       "    <tr>\n",
       "      <th>2010-12-31</th>\n",
       "      <td>27.629871</td>\n",
       "      <td>6.755619</td>\n",
       "      <td>17.137247</td>\n",
       "      <td>False</td>\n",
       "    </tr>\n",
       "    <tr>\n",
       "      <th>2011-12-31</th>\n",
       "      <td>15.125668</td>\n",
       "      <td>25.506926</td>\n",
       "      <td>19.881416</td>\n",
       "      <td>True</td>\n",
       "    </tr>\n",
       "    <tr>\n",
       "      <th>2012-12-31</th>\n",
       "      <td>17.126196</td>\n",
       "      <td>6.311847</td>\n",
       "      <td>11.939568</td>\n",
       "      <td>False</td>\n",
       "    </tr>\n",
       "    <tr>\n",
       "      <th>2013-12-31</th>\n",
       "      <td>20.594299</td>\n",
       "      <td>14.245297</td>\n",
       "      <td>17.702366</td>\n",
       "      <td>False</td>\n",
       "    </tr>\n",
       "    <tr>\n",
       "      <th>2014-12-31</th>\n",
       "      <td>16.214201</td>\n",
       "      <td>21.038786</td>\n",
       "      <td>18.347226</td>\n",
       "      <td>True</td>\n",
       "    </tr>\n",
       "    <tr>\n",
       "      <th>2015-12-31</th>\n",
       "      <td>12.916408</td>\n",
       "      <td>37.146156</td>\n",
       "      <td>23.872390</td>\n",
       "      <td>True</td>\n",
       "    </tr>\n",
       "    <tr>\n",
       "      <th>2016-12-31</th>\n",
       "      <td>24.521668</td>\n",
       "      <td>23.770675</td>\n",
       "      <td>24.145703</td>\n",
       "      <td>False</td>\n",
       "    </tr>\n",
       "    <tr>\n",
       "      <th>2017-12-31</th>\n",
       "      <td>17.511239</td>\n",
       "      <td>26.585156</td>\n",
       "      <td>22.040135</td>\n",
       "      <td>True</td>\n",
       "    </tr>\n",
       "    <tr>\n",
       "      <th>2018-12-31</th>\n",
       "      <td>18.224374</td>\n",
       "      <td>15.994556</td>\n",
       "      <td>17.069999</td>\n",
       "      <td>False</td>\n",
       "    </tr>\n",
       "    <tr>\n",
       "      <th>2019-12-31</th>\n",
       "      <td>14.003310</td>\n",
       "      <td>14.653313</td>\n",
       "      <td>14.336725</td>\n",
       "      <td>True</td>\n",
       "    </tr>\n",
       "    <tr>\n",
       "      <th>2020-12-31</th>\n",
       "      <td>16.366988</td>\n",
       "      <td>17.963990</td>\n",
       "      <td>17.188428</td>\n",
       "      <td>True</td>\n",
       "    </tr>\n",
       "    <tr>\n",
       "      <th>2021-12-31</th>\n",
       "      <td>15.634447</td>\n",
       "      <td>13.030153</td>\n",
       "      <td>14.286027</td>\n",
       "      <td>False</td>\n",
       "    </tr>\n",
       "    <tr>\n",
       "      <th>2022-12-31</th>\n",
       "      <td>13.988219</td>\n",
       "      <td>9.108811</td>\n",
       "      <td>11.489580</td>\n",
       "      <td>False</td>\n",
       "    </tr>\n",
       "    <tr>\n",
       "      <th>2023-12-31</th>\n",
       "      <td>10.852466</td>\n",
       "      <td>24.443635</td>\n",
       "      <td>17.663590</td>\n",
       "      <td>True</td>\n",
       "    </tr>\n",
       "  </tbody>\n",
       "</table>\n",
       "</div>"
      ],
      "text/plain": [
       "            Domestic_Debt  External_Debt      Total  High_ext__debt\n",
       "Date                                                               \n",
       "2001-12-31            NaN            NaN        NaN           False\n",
       "2002-12-31      14.406371      -4.856167   1.824098           False\n",
       "2003-12-31      19.271276       3.226698   9.478542           False\n",
       "2004-12-31       4.959983      11.043759   8.461143            True\n",
       "2005-12-31       4.792494      -0.974749   1.394466           False\n",
       "2006-12-31      14.083244      -2.435670   4.577811           False\n",
       "2007-12-31      12.766514      -0.972011   5.391174           False\n",
       "2008-12-31       8.707131       6.310883   7.498406           False\n",
       "2009-12-31      18.205794      20.019673  19.110650            True\n",
       "2010-12-31      27.629871       6.755619  17.137247           False\n",
       "2011-12-31      15.125668      25.506926  19.881416            True\n",
       "2012-12-31      17.126196       6.311847  11.939568           False\n",
       "2013-12-31      20.594299      14.245297  17.702366           False\n",
       "2014-12-31      16.214201      21.038786  18.347226            True\n",
       "2015-12-31      12.916408      37.146156  23.872390            True\n",
       "2016-12-31      24.521668      23.770675  24.145703           False\n",
       "2017-12-31      17.511239      26.585156  22.040135            True\n",
       "2018-12-31      18.224374      15.994556  17.069999           False\n",
       "2019-12-31      14.003310      14.653313  14.336725            True\n",
       "2020-12-31      16.366988      17.963990  17.188428            True\n",
       "2021-12-31      15.634447      13.030153  14.286027           False\n",
       "2022-12-31      13.988219       9.108811  11.489580           False\n",
       "2023-12-31      10.852466      24.443635  17.663590            True"
      ]
     },
     "execution_count": 26,
     "metadata": {},
     "output_type": "execute_result"
    },
    {
     "data": {
      "image/png": "[encoded data removed]",
      "text/plain": [
       "<Figure size 640x480 with 1 Axes>"
      ]
     },
     "metadata": {},
     "output_type": "display_data"
    }
   ],
   "source": [
    "changes_per_year = df.resample(\"Y\").mean().pct_change()*100\n",
    "changes_per_year.plot.bar(title=\"% Change in debt per year\",\n",
    "                          y=[\"Domestic_Debt\", \"External_Debt\"])\n",
    "\n",
    "changes_per_year.assign(High_ext__debt = changes_per_year[\"Domestic_Debt\"]<=changes_per_year[\"External_Debt\"])"
   ]
  },
  {
   "cell_type": "markdown",
   "id": "69860a76",
   "metadata": {},
   "source": [
    "It can be seen with this code that after 2009 we started seeing biger spikes in changes of the average debt per year. This can be seen clearly for the two years, that is 2009 and 2010, that domestic and external debt had a surge in positive change.\n",
    "\n",
    "It can also be seen that in 2015 there was a big change in external debt.\n",
    "\n",
    "Further analysis shows that External debt usually had more positive/upward changes as compared to domestic debt, in the twenty three years worth of data only nine years had domestic debt have more change than external debt this being only 39% of the time"
   ]
  },
  {
   "cell_type": "markdown",
   "id": "bef75af7",
   "metadata": {},
   "source": [
    "The following code was used to check the difference in the changes of debt, that is to check how the did compared to one another"
   ]
  },
  {
   "cell_type": "code",
   "execution_count": 27,
   "id": "c1e023cf",
   "metadata": {},
   "outputs": [
    {
     "data": {
      "application/vnd.microsoft.datawrangler.viewer.v0+json": {
       "columns": [
        {
         "name": "Date",
         "rawType": "datetime64[ns]",
         "type": "datetime"
        },
        {
         "name": "Domestic_Debt",
         "rawType": "float64",
         "type": "float"
        },
        {
         "name": "External_Debt",
         "rawType": "float64",
         "type": "float"
        },
        {
         "name": "Total",
         "rawType": "float64",
         "type": "float"
        },
        {
         "name": "change_diff",
         "rawType": "float64",
         "type": "float"
        }
       ],
       "ref": "a77c425f-6328-44b0-8bcd-ef5c32b1bfdf",
       "rows": [
        [
         "2001-12-31 00:00:00",
         null,
         null,
         null,
         null
        ],
        [
         "2002-12-31 00:00:00",
         "14.406370645276567",
         "-4.856166906516057",
         "1.8240975434402618",
         "19.262537551792626"
        ],
        [
         "2003-12-31 00:00:00",
         "19.27127645686342",
         "3.226698362411784",
         "9.478541984623234",
         "16.044578094451634"
        ],
        [
         "2004-12-31 00:00:00",
         "4.9599827874049485",
         "11.043759186020718",
         "8.461142543286249",
         "-6.08377639861577"
        ],
        [
         "2005-12-31 00:00:00",
         "4.792493839418799",
         "-0.9747490958281313",
         "1.3944663891575448",
         "5.76724293524693"
        ],
        [
         "2006-12-31 00:00:00",
         "14.083243502996101",
         "-2.435669659608053",
         "4.577811361179229",
         "16.518913162604154"
        ],
        [
         "2007-12-31 00:00:00",
         "12.766514073649482",
         "-0.9720110349787148",
         "5.391174284617839",
         "13.738525108628197"
        ],
        [
         "2008-12-31 00:00:00",
         "8.707131047454443",
         "6.31088253441463",
         "7.498405879911529",
         "2.3962485130398123"
        ],
        [
         "2009-12-31 00:00:00",
         "18.205793576444606",
         "20.019673489464097",
         "19.110650387707008",
         "-1.8138799130194911"
        ],
        [
         "2010-12-31 00:00:00",
         "27.629870529531942",
         "6.755619487598108",
         "17.137247371499598",
         "20.874251041933835"
        ],
        [
         "2011-12-31 00:00:00",
         "15.125668136233461",
         "25.506925600458864",
         "19.881416489160664",
         "-10.381257464225403"
        ],
        [
         "2012-12-31 00:00:00",
         "17.126195879186177",
         "6.311847478076382",
         "11.939568043149862",
         "10.814348401109795"
        ],
        [
         "2013-12-31 00:00:00",
         "20.594299087551594",
         "14.245296921077744",
         "17.702365978027125",
         "6.34900216647385"
        ],
        [
         "2014-12-31 00:00:00",
         "16.21420074782791",
         "21.038786187692505",
         "18.347225562922254",
         "-4.824585439864595"
        ],
        [
         "2015-12-31 00:00:00",
         "12.916408045289863",
         "37.146156263462025",
         "23.872389583424457",
         "-24.229748218172162"
        ],
        [
         "2016-12-31 00:00:00",
         "24.521667613131303",
         "23.770674830985605",
         "24.145702679873636",
         "0.7509927821456976"
        ],
        [
         "2017-12-31 00:00:00",
         "17.51123921268927",
         "26.58515607687464",
         "22.04013539595069",
         "-9.073916864185371"
        ],
        [
         "2018-12-31 00:00:00",
         "18.224373818827956",
         "15.99455637822853",
         "17.06999864340144",
         "2.229817440599426"
        ],
        [
         "2019-12-31 00:00:00",
         "14.003310263306368",
         "14.653312680791707",
         "14.336724918222021",
         "-0.6500024174853394"
        ],
        [
         "2020-12-31 00:00:00",
         "16.36698842893669",
         "17.963989753615262",
         "17.188428277166224",
         "-1.5970013246785726"
        ],
        [
         "2021-12-31 00:00:00",
         "15.634446958060622",
         "13.030153417528512",
         "14.286026974747479",
         "2.60429354053211"
        ],
        [
         "2022-12-31 00:00:00",
         "13.98821914704078",
         "9.108811296084474",
         "11.48957988543362",
         "4.879407850956307"
        ],
        [
         "2023-12-31 00:00:00",
         "10.852466132918547",
         "24.4436349400462",
         "17.663590162529943",
         "-13.591168807127652"
        ]
       ],
       "shape": {
        "columns": 4,
        "rows": 23
       }
      },
      "text/html": [
       "<div>\n",
       "<style scoped>\n",
       "    .dataframe tbody tr th:only-of-type {\n",
       "        vertical-align: middle;\n",
       "    }\n",
       "\n",
       "    .dataframe tbody tr th {\n",
       "        vertical-align: top;\n",
       "    }\n",
       "\n",
       "    .dataframe thead th {\n",
       "        text-align: right;\n",
       "    }\n",
       "</style>\n",
       "<table border=\"1\" class=\"dataframe\">\n",
       "  <thead>\n",
       "    <tr style=\"text-align: right;\">\n",
       "      <th></th>\n",
       "      <th>Domestic_Debt</th>\n",
       "      <th>External_Debt</th>\n",
       "      <th>Total</th>\n",
       "      <th>change_diff</th>\n",
       "    </tr>\n",
       "    <tr>\n",
       "      <th>Date</th>\n",
       "      <th></th>\n",
       "      <th></th>\n",
       "      <th></th>\n",
       "      <th></th>\n",
       "    </tr>\n",
       "  </thead>\n",
       "  <tbody>\n",
       "    <tr>\n",
       "      <th>2001-12-31</th>\n",
       "      <td>NaN</td>\n",
       "      <td>NaN</td>\n",
       "      <td>NaN</td>\n",
       "      <td>NaN</td>\n",
       "    </tr>\n",
       "    <tr>\n",
       "      <th>2002-12-31</th>\n",
       "      <td>14.406371</td>\n",
       "      <td>-4.856167</td>\n",
       "      <td>1.824098</td>\n",
       "      <td>19.262538</td>\n",
       "    </tr>\n",
       "    <tr>\n",
       "      <th>2003-12-31</th>\n",
       "      <td>19.271276</td>\n",
       "      <td>3.226698</td>\n",
       "      <td>9.478542</td>\n",
       "      <td>16.044578</td>\n",
       "    </tr>\n",
       "    <tr>\n",
       "      <th>2004-12-31</th>\n",
       "      <td>4.959983</td>\n",
       "      <td>11.043759</td>\n",
       "      <td>8.461143</td>\n",
       "      <td>-6.083776</td>\n",
       "    </tr>\n",
       "    <tr>\n",
       "      <th>2005-12-31</th>\n",
       "      <td>4.792494</td>\n",
       "      <td>-0.974749</td>\n",
       "      <td>1.394466</td>\n",
       "      <td>5.767243</td>\n",
       "    </tr>\n",
       "    <tr>\n",
       "      <th>2006-12-31</th>\n",
       "      <td>14.083244</td>\n",
       "      <td>-2.435670</td>\n",
       "      <td>4.577811</td>\n",
       "      <td>16.518913</td>\n",
       "    </tr>\n",
       "    <tr>\n",
       "      <th>2007-12-31</th>\n",
       "      <td>12.766514</td>\n",
       "      <td>-0.972011</td>\n",
       "      <td>5.391174</td>\n",
       "      <td>13.738525</td>\n",
       "    </tr>\n",
       "    <tr>\n",
       "      <th>2008-12-31</th>\n",
       "      <td>8.707131</td>\n",
       "      <td>6.310883</td>\n",
       "      <td>7.498406</td>\n",
       "      <td>2.396249</td>\n",
       "    </tr>\n",
       "    <tr>\n",
       "      <th>2009-12-31</th>\n",
       "      <td>18.205794</td>\n",
       "      <td>20.019673</td>\n",
       "      <td>19.110650</td>\n",
       "      <td>-1.813880</td>\n",
       "    </tr>\n",
       "    <tr>\n",
       "      <th>2010-12-31</th>\n",
       "      <td>27.629871</td>\n",
       "      <td>6.755619</td>\n",
       "      <td>17.137247</td>\n",
       "      <td>20.874251</td>\n",
       "    </tr>\n",
       "    <tr>\n",
       "      <th>2011-12-31</th>\n",
       "      <td>15.125668</td>\n",
       "      <td>25.506926</td>\n",
       "      <td>19.881416</td>\n",
       "      <td>-10.381257</td>\n",
       "    </tr>\n",
       "    <tr>\n",
       "      <th>2012-12-31</th>\n",
       "      <td>17.126196</td>\n",
       "      <td>6.311847</td>\n",
       "      <td>11.939568</td>\n",
       "      <td>10.814348</td>\n",
       "    </tr>\n",
       "    <tr>\n",
       "      <th>2013-12-31</th>\n",
       "      <td>20.594299</td>\n",
       "      <td>14.245297</td>\n",
       "      <td>17.702366</td>\n",
       "      <td>6.349002</td>\n",
       "    </tr>\n",
       "    <tr>\n",
       "      <th>2014-12-31</th>\n",
       "      <td>16.214201</td>\n",
       "      <td>21.038786</td>\n",
       "      <td>18.347226</td>\n",
       "      <td>-4.824585</td>\n",
       "    </tr>\n",
       "    <tr>\n",
       "      <th>2015-12-31</th>\n",
       "      <td>12.916408</td>\n",
       "      <td>37.146156</td>\n",
       "      <td>23.872390</td>\n",
       "      <td>-24.229748</td>\n",
       "    </tr>\n",
       "    <tr>\n",
       "      <th>2016-12-31</th>\n",
       "      <td>24.521668</td>\n",
       "      <td>23.770675</td>\n",
       "      <td>24.145703</td>\n",
       "      <td>0.750993</td>\n",
       "    </tr>\n",
       "    <tr>\n",
       "      <th>2017-12-31</th>\n",
       "      <td>17.511239</td>\n",
       "      <td>26.585156</td>\n",
       "      <td>22.040135</td>\n",
       "      <td>-9.073917</td>\n",
       "    </tr>\n",
       "    <tr>\n",
       "      <th>2018-12-31</th>\n",
       "      <td>18.224374</td>\n",
       "      <td>15.994556</td>\n",
       "      <td>17.069999</td>\n",
       "      <td>2.229817</td>\n",
       "    </tr>\n",
       "    <tr>\n",
       "      <th>2019-12-31</th>\n",
       "      <td>14.003310</td>\n",
       "      <td>14.653313</td>\n",
       "      <td>14.336725</td>\n",
       "      <td>-0.650002</td>\n",
       "    </tr>\n",
       "    <tr>\n",
       "      <th>2020-12-31</th>\n",
       "      <td>16.366988</td>\n",
       "      <td>17.963990</td>\n",
       "      <td>17.188428</td>\n",
       "      <td>-1.597001</td>\n",
       "    </tr>\n",
       "    <tr>\n",
       "      <th>2021-12-31</th>\n",
       "      <td>15.634447</td>\n",
       "      <td>13.030153</td>\n",
       "      <td>14.286027</td>\n",
       "      <td>2.604294</td>\n",
       "    </tr>\n",
       "    <tr>\n",
       "      <th>2022-12-31</th>\n",
       "      <td>13.988219</td>\n",
       "      <td>9.108811</td>\n",
       "      <td>11.489580</td>\n",
       "      <td>4.879408</td>\n",
       "    </tr>\n",
       "    <tr>\n",
       "      <th>2023-12-31</th>\n",
       "      <td>10.852466</td>\n",
       "      <td>24.443635</td>\n",
       "      <td>17.663590</td>\n",
       "      <td>-13.591169</td>\n",
       "    </tr>\n",
       "  </tbody>\n",
       "</table>\n",
       "</div>"
      ],
      "text/plain": [
       "            Domestic_Debt  External_Debt      Total  change_diff\n",
       "Date                                                            \n",
       "2001-12-31            NaN            NaN        NaN          NaN\n",
       "2002-12-31      14.406371      -4.856167   1.824098    19.262538\n",
       "2003-12-31      19.271276       3.226698   9.478542    16.044578\n",
       "2004-12-31       4.959983      11.043759   8.461143    -6.083776\n",
       "2005-12-31       4.792494      -0.974749   1.394466     5.767243\n",
       "2006-12-31      14.083244      -2.435670   4.577811    16.518913\n",
       "2007-12-31      12.766514      -0.972011   5.391174    13.738525\n",
       "2008-12-31       8.707131       6.310883   7.498406     2.396249\n",
       "2009-12-31      18.205794      20.019673  19.110650    -1.813880\n",
       "2010-12-31      27.629871       6.755619  17.137247    20.874251\n",
       "2011-12-31      15.125668      25.506926  19.881416   -10.381257\n",
       "2012-12-31      17.126196       6.311847  11.939568    10.814348\n",
       "2013-12-31      20.594299      14.245297  17.702366     6.349002\n",
       "2014-12-31      16.214201      21.038786  18.347226    -4.824585\n",
       "2015-12-31      12.916408      37.146156  23.872390   -24.229748\n",
       "2016-12-31      24.521668      23.770675  24.145703     0.750993\n",
       "2017-12-31      17.511239      26.585156  22.040135    -9.073917\n",
       "2018-12-31      18.224374      15.994556  17.069999     2.229817\n",
       "2019-12-31      14.003310      14.653313  14.336725    -0.650002\n",
       "2020-12-31      16.366988      17.963990  17.188428    -1.597001\n",
       "2021-12-31      15.634447      13.030153  14.286027     2.604294\n",
       "2022-12-31      13.988219       9.108811  11.489580     4.879408\n",
       "2023-12-31      10.852466      24.443635  17.663590   -13.591169"
      ]
     },
     "execution_count": 27,
     "metadata": {},
     "output_type": "execute_result"
    },
    {
     "data": {
      "image/png": "[encoded data removed]",
      "text/plain": [
       "<Figure size 640x480 with 1 Axes>"
      ]
     },
     "metadata": {},
     "output_type": "display_data"
    }
   ],
   "source": [
    "changes_per_year[\"change_diff\"] = changes_per_year[\"Domestic_Debt\"] - changes_per_year[\"External_Debt\"]\n",
    "changes_per_year['change_diff'].plot.bar(title=\"Diffence in changes in debt\")\n",
    "changes_per_year"
   ]
  },
  {
   "cell_type": "markdown",
   "id": "c4b5e620",
   "metadata": {},
   "source": [
    "The above figure shows in each year how much the changes were. The positive values represents when the change in domestic debt was higher than that of external debt of the same year, while the negative values show when the change in external debt was higher.\n",
    "\n",
    "It can be derived that Domestic debt has been on the rise over the years with the country seemingly increasing domestic borrowing. From the plot, one patricular year stands out and that is 2015 where the seemed to be a big change in external debt, this can be attributed to large infrastructure development projects specificaly the Standard Guage Railway(SGR) which was financed heavily by loans from china. For Domestic debt it can be seen that it had big surges in 2002 and 2010, these can be attributed to several factors. in 2002 Kenya it was election period and the government is said to have undertaken a bulk of infrastructure projects at this time. in 2010 the rise in domestic debt can be attributed to the global financial crisis and post election violence, it can also be noted that this was the period kenya was implimenting its new constitution."
   ]
  },
  {
   "cell_type": "markdown",
   "id": "c64d72c4",
   "metadata": {},
   "source": [
    "In the following code, i want to do an analysis gdp and The total debt. I will only need the total, which i resample by mean to get yearly averages.\n",
    "To do analysis with the gdp_df i had to change its index so that it could match from the default df.I made a copy of the gdp_df and decided to reset all the indexes to only show the year. i Joined the nomonal_gdp to our default df and performed the necessary calculation foe debt to gdp ratio.\n"
   ]
  },
  {
   "cell_type": "code",
   "execution_count": 28,
   "id": "53d74f06",
   "metadata": {},
   "outputs": [
    {
     "name": "stderr",
     "output_type": "stream",
     "text": [
      "C:\\Users\\daniel\\AppData\\Local\\Temp\\ipykernel_9108\\1310121239.py:1: FutureWarning: 'Y' is deprecated and will be removed in a future version, please use 'YE' instead.\n",
      "  year_avg = df.loc[:, [\"Total\"]].resample(\"Y\").mean()\n"
     ]
    },
    {
     "data": {
      "text/plain": [
       "<Axes: title={'center': 'Debt-Gdp Ratio'}, xlabel='Date'>"
      ]
     },
     "execution_count": 28,
     "metadata": {},
     "output_type": "execute_result"
    },
    {
     "data": {
      "image/png": "[encoded data removed]",
      "text/plain": [
       "<Figure size 640x480 with 1 Axes>"
      ]
     },
     "metadata": {},
     "output_type": "display_data"
    }
   ],
   "source": [
    "year_avg = df.loc[:, [\"Total\"]].resample(\"Y\").mean()\n",
    "year_avg.index = year_avg.index.year\n",
    "gdp_df_copy = gdp_df.copy()\n",
    "gdp_df_copy.index = gdp_df_copy.index.year\n",
    "year_avg = year_avg.join(gdp_df_copy[\"Nominal_Gdp\"], )\n",
    "year_avg[\"gdp_debt\"] = year_avg[\"Total\"] / year_avg[\"Nominal_Gdp\"]\n",
    "year_avg[\"gdp_debt\"].plot.bar(title=\"Debt-Gdp Ratio\")"
   ]
  },
  {
   "cell_type": "markdown",
   "id": "72a7ee7c",
   "metadata": {},
   "source": [
    "It can be seen prior to 2009 the debt to gdp ratio was on a downward trend, although borrowing at this time was increasing the country's growth was faster than it borrowed. After 2009 the ratio is on an upwrd trend indicating the country is borrowing more than it is making"
   ]
  },
  {
   "cell_type": "markdown",
   "id": "1be55993",
   "metadata": {},
   "source": [
    "Next We are gong to look at the data on a month by month lense, since the data is already monthly there is no need of resampling as we did whlile analysing yearly"
   ]
  },
  {
   "cell_type": "code",
   "execution_count": 29,
   "id": "29b6596e",
   "metadata": {},
   "outputs": [
    {
     "data": {
      "text/plain": [
       "<Axes: title={'center': '% Changes in Debt per Month 2003 - 2015'}, xlabel='Date'>"
      ]
     },
     "execution_count": 29,
     "metadata": {},
     "output_type": "execute_result"
    },
    {
     "data": {
      "image/png": "[encoded data removed]",
      "text/plain": [
       "<Figure size 640x480 with 1 Axes>"
      ]
     },
     "metadata": {},
     "output_type": "display_data"
    },
    {
     "data": {
      "image/png": "[encoded data removed]",
      "text/plain": [
       "<Figure size 640x480 with 1 Axes>"
      ]
     },
     "metadata": {},
     "output_type": "display_data"
    }
   ],
   "source": [
    "changes_per_month = df.pct_change()*100\n",
    "changes_per_month.plot(y=[\"Domestic_Debt\", \"External_Debt\"], title=\"% Changes in Debt per Month 2001 - 2023\")\n",
    "changes_per_month.loc[\"2003\":\"2015\"].plot(y=[\"Domestic_Debt\", \"External_Debt\"], title=\"% Changes in Debt per Month 2003 - 2015\")"
   ]
  },
  {
   "cell_type": "markdown",
   "id": "b68e89ee",
   "metadata": {},
   "source": [
    "For a more granular view, I calculated month-over-month percentage changes.\n",
    "Monthly debt changes were highly volatile, especially for external debt, which showed more significant spikes.\n",
    "\n",
    "Zooming into 2003–2015, I observed:\n",
    "\n",
    "Two major negative spikes around 2010 and late 2011.\n",
    "Notable domestic debt fluctuations between 2012 and 2014, with two dips and two highs."
   ]
  }
 ],
 "metadata": {
  "kernelspec": {
   "display_name": "data_analysis_env",
   "language": "python",
   "name": "python3"
  },
  "language_info": {
   "codemirror_mode": {
    "name": "ipython",
    "version": 3
   },
   "file_extension": ".py",
   "mimetype": "text/x-python",
   "name": "python",
   "nbconvert_exporter": "python",
   "pygments_lexer": "ipython3",
   "version": "3.12.6"
  }
 },
 "nbformat": 4,
 "nbformat_minor": 5
}
